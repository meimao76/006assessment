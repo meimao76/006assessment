{
 "cells": [
  {
   "cell_type": "code",
   "execution_count": 149,
   "id": "e2ff7bbe",
   "metadata": {},
   "outputs": [
    {
     "name": "stdout",
     "output_type": "stream",
     "text": [
      "(24940, 3)\n",
      "   LSOA Code  Year  Theft Count\n",
      "0  E01000006  2015            3\n",
      "1  E01000006  2016            8\n",
      "2  E01000006  2017            9\n",
      "3  E01000006  2018           15\n",
      "4  E01000006  2019            6\n",
      "LSOA Code      0\n",
      "Year           0\n",
      "Theft Count    0\n",
      "dtype: int64\n",
      "LSOA Code      object\n",
      "Year            int64\n",
      "Theft Count     int64\n",
      "dtype: object\n"
     ]
    }
   ],
   "source": [
    "#盗窃数据\n",
    "import pandas as pd\n",
    "# 读取数据\n",
    "df = pd.read_csv(\"data/MPS LSOA Level Crime (Historical) .csv\")\n",
    "\n",
    "# 筛选 major_category 为 Theft\n",
    "df_theft = df[df[\"Major Category\"].str.upper().str.contains(\"THEFT\")]\n",
    "\n",
    "# 筛选出列名是数字的\n",
    "date_cols = [col for col in df_theft.columns if col.isdigit()]\n",
    "\n",
    "# 只保留 201501–201912\n",
    "date_cols = [col for col in date_cols if \"201501\" <= col <= \"201912\"]\n",
    "\n",
    "# 再选出其他保留列（如 LSOA 代码 / 名称）\n",
    "keep_cols = [\"LSOA Code\", \"LSOA Name\", \"Borough\", \"Minor Category\"] + date_cols\n",
    "df_filtered = df_theft[keep_cols]\n",
    "\n",
    "# 转换成长格式\n",
    "df_long = df_filtered.melt(\n",
    "    id_vars=[\"LSOA Code\", \"LSOA Name\", \"Minor Category\"],\n",
    "    value_vars=[col for col in df_filtered.columns if col.isdigit() and \"201501\" <= col <= \"201912\"],\n",
    "    var_name=\"Month\", value_name=\"Count\"\n",
    ")\n",
    "\n",
    "# 增加年份column\n",
    "df_long[\"Year\"] = df_long[\"Month\"].str[:4].astype(int)\n",
    "\n",
    "# 计算每年的总和\n",
    "df_yearly = (\n",
    "    df_long\n",
    "    .groupby([\"LSOA Code\", \"Year\"])[\"Count\"]\n",
    "    .sum()\n",
    "    .reset_index()\n",
    "    .rename(columns={\"Count\": \"Theft Count\"})\n",
    ")\n",
    "\n",
    "print(df_yearly.shape)\n",
    "print(df_yearly.head())\n",
    "print(df_yearly.isnull().sum())\n",
    "print(df_yearly.dtypes)\n"
   ]
  },
  {
   "cell_type": "code",
   "execution_count": 150,
   "id": "a27490e5",
   "metadata": {},
   "outputs": [
    {
     "name": "stdout",
     "output_type": "stream",
     "text": [
      "(24940, 4)\n",
      "       LSOA Code  Year  Population  Vulnerable_Ratio\n",
      "28767  E01000006  2015        1929          0.325557\n",
      "28768  E01000007  2015        2158          0.297498\n",
      "28769  E01000008  2015        1650          0.374545\n",
      "28770  E01000009  2015        1737          0.298791\n",
      "28771  E01000011  2015        1647          0.313297\n",
      "LSOA Code           0\n",
      "Year                0\n",
      "Population          0\n",
      "Vulnerable_Ratio    0\n",
      "dtype: int64\n",
      "LSOA Code            object\n",
      "Year                  int64\n",
      "Population            int64\n",
      "Vulnerable_Ratio    float64\n",
      "dtype: object\n"
     ]
    }
   ],
   "source": [
    "#人口数据\n",
    "\n",
    "# 导入\n",
    "pop = pd.ExcelFile(\"data/sapelsoabroadage20112022.xlsx\")\n",
    "sheet_names = pop.sheet_names\n",
    "\n",
    "# 定义需要的数据\n",
    "target_sheets =['Mid-2015 LSOA 2021', 'Mid-2016 LSOA 2021', 'Mid-2017 LSOA 2021', 'Mid-2018 LSOA 2021', 'Mid-2019 LSOA 2021']\n",
    "target_year = {'Mid-2015 LSOA 2021': 2015, 'Mid-2016 LSOA 2021': 2016, 'Mid-2017 LSOA 2021': 2017, 'Mid-2018 LSOA 2021': 2018, 'Mid-2019 LSOA 2021': 2019}\n",
    "\n",
    "# 合并所有需要的数据表\n",
    "pop_list=[]\n",
    "for sheet in target_sheets:\n",
    "    df_pop = pop.parse(sheet, skiprows=3, header=0)\n",
    "    df_pop.columns = df_pop.columns.str.strip()\n",
    "    df_pop = df_pop.rename(columns={\n",
    "        \"LSOA 2021 Code\": \"LSOA Code\",\n",
    "        \"Total\": \"Population\"\n",
    "    })\n",
    "    df_pop[\"Year\"] = target_year[sheet]\n",
    "    df_pop[\"Vulnerable_Group\"] = df_pop[\"M65 and over\"] + df_pop[\"F65 and over\"] + df_pop[\"F0 to 15\"] + df_pop[\"M0 to 15\"]\n",
    "    df_pop[\"Vulnerable_Ratio\"] = df_pop[\"Vulnerable_Group\"] / df_pop[\"Population\"]\n",
    "\n",
    "    pop_list.append(df_pop[[\"LSOA Code\", \"Year\", \"Population\", \"Vulnerable_Ratio\"]])\n",
    "\n",
    "pop_fin = pd.concat(pop_list, ignore_index=True)\n",
    "\n",
    "# 伦敦数据\n",
    "london_lsoa = df_yearly[\"LSOA Code\"].unique()\n",
    "\n",
    "london_pop = pop_fin[pop_fin[\"LSOA Code\"].isin(london_lsoa)]\n",
    "\n",
    "print(london_pop.shape)\n",
    "print(london_pop.head())\n",
    "print(london_pop.isnull().sum())\n",
    "print(london_pop.dtypes)"
   ]
  },
  {
   "cell_type": "code",
   "execution_count": 151,
   "id": "0eeb8855",
   "metadata": {},
   "outputs": [
    {
     "name": "stdout",
     "output_type": "stream",
     "text": [
      "(24940, 3)\n",
      "   LSOA Code  Year  Population Density\n",
      "4  E01000006  2015        13158.253752\n",
      "5  E01000007  2015        10790.000000\n",
      "6  E01000008  2015         8522.727273\n",
      "7  E01000009  2015        13580.922596\n",
      "8  E01000011  2015        17960.741549\n",
      "LSOA Code             0\n",
      "Year                  0\n",
      "Population Density    0\n",
      "dtype: int64\n",
      "LSOA Code              object\n",
      "Year                    int64\n",
      "Population Density    float64\n",
      "dtype: object\n"
     ]
    }
   ],
   "source": [
    "# 清洗人口密度数据\n",
    "# 导入\n",
    "den = pd.ExcelFile(\"data/sapelsoapopulationdensity20112022.xlsx\")\n",
    "sheet_names_den = den.sheet_names\n",
    "\n",
    "df_den = den.parse(sheet_name=\"Mid-2011 to mid-2022 LSOA 2021\", skiprows=3, header=0)\n",
    "df_den.columns = df_den.columns.str.strip()\n",
    "df_den = df_den.rename(columns={\"LSOA 2021 Code\": \"LSOA Code\",\n",
    "                                \"Mid-2015: People per Sq Km\": \"2015\",\n",
    "                                \"Mid-2016: People per Sq Km\": \"2016\",\n",
    "                                \"Mid-2017: People per Sq Km\": \"2017\",\n",
    "                                \"Mid-2018: People per Sq Km\": \"2018\",\n",
    "                                \"Mid-2019: People per Sq Km\": \"2019\"})\n",
    "keep_cols2 = [\"LSOA Code\", \"2015\", \"2016\", \"2017\", \"2018\", \"2019\"]\n",
    "df_den = df_den[keep_cols2]\n",
    "\n",
    "\n",
    "# 转换长格式\n",
    "den_long = pd.melt(df_den, \n",
    "                   id_vars=[\"LSOA Code\"], \n",
    "                   var_name=\"Year\", \n",
    "                   value_name=\"Population Density\")\n",
    "\n",
    "den_long[\"Year\"] = den_long[\"Year\"].astype(int)\n",
    "den_long[\"LSOA Code\"] = den_long[\"LSOA Code\"].astype(str)\n",
    "\n",
    "# 筛选伦敦\n",
    "london_den = den_long[den_long[\"LSOA Code\"].isin(london_lsoa)]\n",
    "\n",
    "print(london_den.shape)\n",
    "print(london_den.head())\n",
    "print(london_den.isnull().sum())\n",
    "print(london_den.dtypes)\n"
   ]
  },
  {
   "cell_type": "code",
   "execution_count": 152,
   "id": "51a09e7e",
   "metadata": {},
   "outputs": [
    {
     "name": "stdout",
     "output_type": "stream",
     "text": [
      "(23265, 3)\n",
      "    LSOA Code  Year  House Price\n",
      "20  E01000006  2015     196125.0\n",
      "21  E01000006  2016     349062.5\n",
      "22  E01000006  2017     408500.0\n",
      "23  E01000006  2018     379375.0\n",
      "24  E01000006  2019     247375.0\n",
      "LSOA Code        0\n",
      "Year             0\n",
      "House Price    542\n",
      "dtype: int64\n",
      "LSOA Code       object\n",
      "Year             int64\n",
      "House Price    float64\n",
      "dtype: object\n"
     ]
    }
   ],
   "source": [
    "# 房价数据\n",
    "housing = pd.ExcelFile(\"data/hpssadataset46medianpricepaidforresidentialpropertiesbylsoa/HPSSA Dataset 46 - Median price paid for residential properties by LSOA.xlsx\")\n",
    "sheet_names_housing = housing.sheet_names\n",
    "\n",
    "df_housing = housing.parse(sheet_name=\"1a\", skiprows=5, header=0)\n",
    "df_housing.columns = df_housing.columns.str.strip()\n",
    "df_housing = df_housing.rename(columns={\"LSOA code\": \"LSOA Code\"})\n",
    "df_housing = df_housing[df_housing[\"LSOA Code\"].isin(london_lsoa)]\n",
    "\n",
    "# melt 所有列（除了 LSOA code、name）变成行\n",
    "housing_long = pd.melt(df_housing, \n",
    "                  id_vars=[\"LSOA Code\"], \n",
    "                  var_name=\"Date\", \n",
    "                  value_name=\"House Price\")\n",
    "\n",
    "# 提取 4 位数年份作为新的一列\n",
    "housing_long[\"House Price\"] = pd.to_numeric(housing_long[\"House Price\"], errors=\"coerce\")\n",
    "\n",
    "# 再安全地转成整数\n",
    "housing_long[\"Year\"] = housing_long[\"Date\"].str.extract(r\"(\\d{4})\")\n",
    "housing_long = housing_long.dropna(subset=[\"Year\"])\n",
    "housing_long[\"Year\"] = housing_long[\"Year\"].astype(int)\n",
    "housing_yearly = housing_long.groupby([\"LSOA Code\", \"Year\"])[\"House Price\"].mean().reset_index()\n",
    "\n",
    "london_housing = housing_yearly[housing_yearly[\"LSOA Code\"].isin(london_lsoa)&\n",
    "    (housing_yearly[\"Year\"].between(2015, 2019))]\n",
    "\n",
    "print(london_housing.shape)\n",
    "print(london_housing.head())\n",
    "print(london_housing.isnull().sum())\n",
    "print(london_housing.dtypes)"
   ]
  },
  {
   "cell_type": "code",
   "execution_count": 153,
   "id": "07085b1c",
   "metadata": {},
   "outputs": [
    {
     "name": "stdout",
     "output_type": "stream",
     "text": [
      "    LSOA Code  Year  House Price\n",
      "20  E01000006  2015     196125.0\n",
      "21  E01000006  2016     349062.5\n",
      "22  E01000006  2017     408500.0\n",
      "23  E01000006  2018     379375.0\n",
      "24  E01000006  2019     247375.0\n",
      "LSOA Code      0\n",
      "Year           0\n",
      "House Price    0\n",
      "dtype: int64\n",
      "LSOA Code       object\n",
      "Year             int64\n",
      "House Price    float64\n",
      "dtype: object\n"
     ]
    },
    {
     "name": "stderr",
     "output_type": "stream",
     "text": [
      "C:\\Users\\hp\\AppData\\Local\\Temp\\ipykernel_58480\\3209577664.py:2: SettingWithCopyWarning: \n",
      "A value is trying to be set on a copy of a slice from a DataFrame.\n",
      "Try using .loc[row_indexer,col_indexer] = value instead\n",
      "\n",
      "See the caveats in the documentation: https://pandas.pydata.org/pandas-docs/stable/user_guide/indexing.html#returning-a-view-versus-a-copy\n",
      "  london_housing[\"House Price\"] = london_housing.groupby(\"LSOA Code\")[\"House Price\"].transform(lambda x: x.fillna(x.mean()))\n",
      "C:\\Users\\hp\\AppData\\Local\\Temp\\ipykernel_58480\\3209577664.py:3: SettingWithCopyWarning: \n",
      "A value is trying to be set on a copy of a slice from a DataFrame.\n",
      "Try using .loc[row_indexer,col_indexer] = value instead\n",
      "\n",
      "See the caveats in the documentation: https://pandas.pydata.org/pandas-docs/stable/user_guide/indexing.html#returning-a-view-versus-a-copy\n",
      "  london_housing[\"House Price\"] = london_housing[\"House Price\"].fillna(london_housing[\"House Price\"].median())\n"
     ]
    }
   ],
   "source": [
    "# 补房价空缺值\n",
    "london_housing[\"House Price\"] = london_housing.groupby(\"LSOA Code\")[\"House Price\"].transform(lambda x: x.fillna(x.mean()))\n",
    "london_housing[\"House Price\"] = london_housing[\"House Price\"].fillna(london_housing[\"House Price\"].median())\n",
    "print(london_housing.head())\n",
    "print(london_housing.isnull().sum())\n",
    "print(london_housing.dtypes)"
   ]
  },
  {
   "cell_type": "code",
   "execution_count": 154,
   "id": "04d92b7a",
   "metadata": {},
   "outputs": [
    {
     "name": "stdout",
     "output_type": "stream",
     "text": [
      "(4653, 7)\n",
      "LSOA Code                                  0\n",
      "Income Score (rate)                        0\n",
      "Employment Score (rate)                    0\n",
      "Education, Skills and Training Score       0\n",
      "Health Deprivation and Disability Score    0\n",
      "Barriers to Housing and Services Score     0\n",
      "Living Environment Score                   0\n",
      "dtype: int64\n",
      "LSOA Code                                   object\n",
      "Income Score (rate)                        float64\n",
      "Employment Score (rate)                    float64\n",
      "Education, Skills and Training Score       float64\n",
      "Health Deprivation and Disability Score    float64\n",
      "Barriers to Housing and Services Score     float64\n",
      "Living Environment Score                   float64\n",
      "dtype: object\n"
     ]
    }
   ],
   "source": [
    "# imd数据\n",
    "IMD = pd.ExcelFile(\"data/File_5_-_IoD2019_Scores.xlsx\")\n",
    "\n",
    "sheet_names_IMD = IMD.sheet_names\n",
    "\n",
    "df_IMD = IMD.parse(sheet_name=\"IoD2019 Scores\", header=0)\n",
    "df_IMD.columns = df_IMD.columns.str.strip()\n",
    "df_IMD = df_IMD.rename(columns={\"LSOA code (2011)\": \"LSOA Code\"})\n",
    "df_IMD = df_IMD[df_IMD[\"LSOA Code\"].isin(london_lsoa)]\n",
    "\n",
    "keep_cols3 = [\"LSOA Code\", \"Income Score (rate)\", \n",
    "              \"Employment Score (rate)\", \n",
    "              \"Education, Skills and Training Score\", \n",
    "              \"Health Deprivation and Disability Score\", \n",
    "              \"Barriers to Housing and Services Score\", \n",
    "              \"Living Environment Score\"]\n",
    "IMD_fin = df_IMD[keep_cols3]\n",
    "\n",
    "print(IMD_fin.shape)\n",
    "print(IMD_fin.isnull().sum())\n",
    "print(IMD_fin.dtypes)"
   ]
  },
  {
   "cell_type": "code",
   "execution_count": 155,
   "id": "1b4e6d20",
   "metadata": {},
   "outputs": [],
   "source": [
    "# 筛选lsoa2011\n",
    "lsoa11 = IMD_fin[\"LSOA Code\"].unique()\n",
    "\n",
    "df_yearly = df_yearly[df_yearly[\"LSOA Code\"].isin(lsoa11)]\n",
    "london_pop = london_pop[london_pop[\"LSOA Code\"].isin(lsoa11)]\n",
    "london_den = london_den[london_den[\"LSOA Code\"].isin(lsoa11)]\n",
    "london_housing = london_housing[london_housing[\"LSOA Code\"].isin(lsoa11)]"
   ]
  },
  {
   "cell_type": "code",
   "execution_count": 156,
   "id": "1665358e",
   "metadata": {},
   "outputs": [
    {
     "name": "stdout",
     "output_type": "stream",
     "text": [
      "   LSOA Code  Year  Theft Count  Population  Vulnerable_Ratio  \\\n",
      "0  E01000006  2015            3        1929          0.325557   \n",
      "1  E01000006  2016            8        1882          0.319872   \n",
      "2  E01000006  2017            9        1852          0.322894   \n",
      "3  E01000006  2018           15        1844          0.329176   \n",
      "4  E01000006  2019            6        1844          0.315076   \n",
      "\n",
      "   Population Density  House Price  \n",
      "0        13158.253752     196125.0  \n",
      "1        12837.653479     349062.5  \n",
      "2        12633.015007     408500.0  \n",
      "3        12578.444748     379375.0  \n",
      "4        12578.444748     247375.0  \n",
      "(23265, 7)\n",
      "LSOA Code             0\n",
      "Year                  0\n",
      "Theft Count           0\n",
      "Population            0\n",
      "Vulnerable_Ratio      0\n",
      "Population Density    0\n",
      "House Price           0\n",
      "dtype: int64\n"
     ]
    }
   ],
   "source": [
    "# 合并数据集\n",
    "df_model = df_yearly.copy()\n",
    "df_model = df_model.merge(london_pop, on=[\"LSOA Code\", \"Year\"], how=\"left\")\n",
    "df_model = df_model.merge(london_den, on=[\"LSOA Code\", \"Year\"], how=\"left\")\n",
    "df_model = df_model.merge(london_housing, on=[\"LSOA Code\", \"Year\"], how=\"left\")\n",
    "\n",
    "print(df_model.head())\n",
    "print(df_model.shape)\n",
    "print(df_model.isnull().sum())"
   ]
  },
  {
   "cell_type": "code",
   "execution_count": 157,
   "id": "b2a1ed1e",
   "metadata": {},
   "outputs": [],
   "source": [
    "# 每千人盗窃率\n",
    "df_model[\"Theft_Rate_per1k\"] = df_model[\"Theft Count\"] / df_model[\"Population\"] * 1000\n"
   ]
  },
  {
   "cell_type": "code",
   "execution_count": 158,
   "id": "ae104279",
   "metadata": {},
   "outputs": [],
   "source": [
    "# 合并静态数据集\n",
    "df_model = df_model.merge(IMD_fin, on=\"LSOA Code\", how=\"left\")"
   ]
  },
  {
   "cell_type": "code",
   "execution_count": 159,
   "id": "ecce0bb2",
   "metadata": {},
   "outputs": [
    {
     "name": "stdout",
     "output_type": "stream",
     "text": [
      "   LSOA_Code  Year  Vulnerable_Ratio  Population_Density  House_Price  \\\n",
      "0  E01000006  2015          0.325557        13158.253752     196125.0   \n",
      "1  E01000006  2016          0.319872        12837.653479     349062.5   \n",
      "2  E01000006  2017          0.322894        12633.015007     408500.0   \n",
      "3  E01000006  2018          0.329176        12578.444748     379375.0   \n",
      "4  E01000006  2019          0.315076        12578.444748     247375.0   \n",
      "\n",
      "   Theft_Rate_per1k  Income_Score_rate  Employment_Score_rate  \\\n",
      "0          1.555210              0.117                  0.059   \n",
      "1          4.250797              0.117                  0.059   \n",
      "2          4.859611              0.117                  0.059   \n",
      "3          8.134490              0.117                  0.059   \n",
      "4          3.253796              0.117                  0.059   \n",
      "\n",
      "   Education,_Skills_and_Training_Score  \\\n",
      "0                                14.798   \n",
      "1                                14.798   \n",
      "2                                14.798   \n",
      "3                                14.798   \n",
      "4                                14.798   \n",
      "\n",
      "   Health_Deprivation_and_Disability_Score  \\\n",
      "0                                   -0.359   \n",
      "1                                   -0.359   \n",
      "2                                   -0.359   \n",
      "3                                   -0.359   \n",
      "4                                   -0.359   \n",
      "\n",
      "   Barriers_to_Housing_and_Services_Score  Living_Environment_Score  \n",
      "0                                  45.171                    26.888  \n",
      "1                                  45.171                    26.888  \n",
      "2                                  45.171                    26.888  \n",
      "3                                  45.171                    26.888  \n",
      "4                                  45.171                    26.888  \n",
      "(23265, 12)\n",
      "LSOA_Code                                  0\n",
      "Year                                       0\n",
      "Vulnerable_Ratio                           0\n",
      "Population_Density                         0\n",
      "House_Price                                0\n",
      "Theft_Rate_per1k                           0\n",
      "Income_Score_rate                          0\n",
      "Employment_Score_rate                      0\n",
      "Education,_Skills_and_Training_Score       0\n",
      "Health_Deprivation_and_Disability_Score    0\n",
      "Barriers_to_Housing_and_Services_Score     0\n",
      "Living_Environment_Score                   0\n",
      "dtype: int64\n"
     ]
    }
   ],
   "source": [
    "# 删掉不需要的数据\n",
    "df_model = df_model.drop(columns=[\"Theft Count\", \"Population\"])\n",
    "\n",
    "# 修改column名字\n",
    "df_model.columns = df_model.columns.str.replace(\" \", \"_\")\n",
    "df_model.columns = df_model.columns.str.replace(r\"[()/]\", \"\", regex=True)\n",
    "\n",
    "print(df_model.head())\n",
    "print(df_model.shape)\n",
    "print(df_model.isnull().sum())"
   ]
  },
  {
   "cell_type": "code",
   "execution_count": 161,
   "id": "9433c1ca",
   "metadata": {},
   "outputs": [],
   "source": [
    "df_model.to_csv(\"data/cleaned_data.csv\", index=False)"
   ]
  }
 ],
 "metadata": {
  "kernelspec": {
   "display_name": "Python 3",
   "language": "python",
   "name": "python3"
  },
  "language_info": {
   "codemirror_mode": {
    "name": "ipython",
    "version": 3
   },
   "file_extension": ".py",
   "mimetype": "text/x-python",
   "name": "python",
   "nbconvert_exporter": "python",
   "pygments_lexer": "ipython3",
   "version": "3.12.5"
  }
 },
 "nbformat": 4,
 "nbformat_minor": 5
}
