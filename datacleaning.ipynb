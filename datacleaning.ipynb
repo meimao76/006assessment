{
 "cells": [
  {
   "cell_type": "code",
   "execution_count": 1,
   "id": "e2ff7bbe",
   "metadata": {},
   "outputs": [
    {
     "name": "stdout",
     "output_type": "stream",
     "text": [
      "(24940, 3)\n",
      "   LSOA Code  Year  Theft Count\n",
      "0  E01000006  2015            3\n",
      "1  E01000006  2016            8\n",
      "2  E01000006  2017            9\n",
      "3  E01000006  2018           15\n",
      "4  E01000006  2019            6\n",
      "LSOA Code      0\n",
      "Year           0\n",
      "Theft Count    0\n",
      "dtype: int64\n",
      "LSOA Code      object\n",
      "Year            int64\n",
      "Theft Count     int64\n",
      "dtype: object\n"
     ]
    }
   ],
   "source": [
    "#盗窃数据\n",
    "import pandas as pd\n",
    "# 读取数据\n",
    "df = pd.read_csv(\"data/MPS_LSOA_Level_Crime_(Historical).csv\")\n",
    "\n",
    "# 筛选 major_category 为 Theft\n",
    "df_theft = df[df[\"Major Category\"].str.upper().str.contains(\"THEFT\")]\n",
    "\n",
    "# 筛选出列名是数字的\n",
    "date_cols = [col for col in df_theft.columns if col.isdigit()]\n",
    "\n",
    "# 只保留 201501–201912\n",
    "date_cols = [col for col in date_cols if \"201501\" <= col <= \"201912\"]\n",
    "\n",
    "# 再选出其他保留列（如 LSOA 代码 / 名称）\n",
    "keep_cols = [\"LSOA Code\", \"LSOA Name\", \"Borough\", \"Minor Category\"] + date_cols\n",
    "df_filtered = df_theft[keep_cols]\n",
    "\n",
    "# 转换成长格式\n",
    "df_long = df_filtered.melt(\n",
    "    id_vars=[\"LSOA Code\", \"LSOA Name\", \"Minor Category\"],\n",
    "    value_vars=[col for col in df_filtered.columns if col.isdigit() and \"201501\" <= col <= \"201912\"],\n",
    "    var_name=\"Month\", value_name=\"Count\"\n",
    ")\n",
    "\n",
    "# 增加年份column\n",
    "df_long[\"Year\"] = df_long[\"Month\"].str[:4].astype(int)\n",
    "\n",
    "# 计算每年的总和\n",
    "df_yearly = (\n",
    "    df_long\n",
    "    .groupby([\"LSOA Code\", \"Year\"])[\"Count\"]\n",
    "    .sum()\n",
    "    .reset_index()\n",
    "    .rename(columns={\"Count\": \"Theft Count\"})\n",
    ")\n",
    "\n",
    "print(df_yearly.shape)\n",
    "print(df_yearly.head())\n",
    "print(df_yearly.isnull().sum())\n",
    "print(df_yearly.dtypes)\n"
   ]
  },
  {
   "cell_type": "code",
   "execution_count": 2,
   "id": "a27490e5",
   "metadata": {},
   "outputs": [
    {
     "name": "stdout",
     "output_type": "stream",
     "text": [
      "(24940, 4)\n",
      "       LSOA Code  Year  Population  Vulnerable_Ratio\n",
      "28767  E01000006  2015        1929          0.325557\n",
      "28768  E01000007  2015        2158          0.297498\n",
      "28769  E01000008  2015        1650          0.374545\n",
      "28770  E01000009  2015        1737          0.298791\n",
      "28771  E01000011  2015        1647          0.313297\n",
      "LSOA Code           0\n",
      "Year                0\n",
      "Population          0\n",
      "Vulnerable_Ratio    0\n",
      "dtype: int64\n",
      "LSOA Code            object\n",
      "Year                  int64\n",
      "Population            int64\n",
      "Vulnerable_Ratio    float64\n",
      "dtype: object\n"
     ]
    }
   ],
   "source": [
    "#人口数据\n",
    "\n",
    "# 导入\n",
    "pop = pd.ExcelFile(\"data/sapelsoabroadage20112022.xlsx\")\n",
    "sheet_names = pop.sheet_names\n",
    "\n",
    "# 定义需要的数据\n",
    "target_sheets =['Mid-2015 LSOA 2021', 'Mid-2016 LSOA 2021', 'Mid-2017 LSOA 2021', 'Mid-2018 LSOA 2021', 'Mid-2019 LSOA 2021']\n",
    "target_year = {'Mid-2015 LSOA 2021': 2015, 'Mid-2016 LSOA 2021': 2016, 'Mid-2017 LSOA 2021': 2017, 'Mid-2018 LSOA 2021': 2018, 'Mid-2019 LSOA 2021': 2019}\n",
    "\n",
    "# 合并所有需要的数据表\n",
    "pop_list=[]\n",
    "for sheet in target_sheets:\n",
    "    df_pop = pop.parse(sheet, skiprows=3, header=0)\n",
    "    df_pop.columns = df_pop.columns.str.strip()\n",
    "    df_pop = df_pop.rename(columns={\n",
    "        \"LSOA 2021 Code\": \"LSOA Code\",\n",
    "        \"Total\": \"Population\"\n",
    "    })\n",
    "    df_pop[\"Year\"] = target_year[sheet]\n",
    "    df_pop[\"Vulnerable_Group\"] = df_pop[\"M65 and over\"] + df_pop[\"F65 and over\"] + df_pop[\"F0 to 15\"] + df_pop[\"M0 to 15\"]\n",
    "    df_pop[\"Vulnerable_Ratio\"] = df_pop[\"Vulnerable_Group\"] / df_pop[\"Population\"]\n",
    "\n",
    "    pop_list.append(df_pop[[\"LSOA Code\", \"Year\", \"Population\", \"Vulnerable_Ratio\"]])\n",
    "\n",
    "pop_fin = pd.concat(pop_list, ignore_index=True)\n",
    "\n",
    "# 伦敦数据\n",
    "london_lsoa = df_yearly[\"LSOA Code\"].unique()\n",
    "\n",
    "london_pop = pop_fin[pop_fin[\"LSOA Code\"].isin(london_lsoa)]\n",
    "\n",
    "print(london_pop.shape)\n",
    "print(london_pop.head())\n",
    "print(london_pop.isnull().sum())\n",
    "print(london_pop.dtypes)"
   ]
  },
  {
   "cell_type": "code",
   "execution_count": 3,
   "id": "0eeb8855",
   "metadata": {},
   "outputs": [
    {
     "name": "stdout",
     "output_type": "stream",
     "text": [
      "(24940, 3)\n",
      "   LSOA Code  Year  Population Density\n",
      "4  E01000006  2015        13158.253752\n",
      "5  E01000007  2015        10790.000000\n",
      "6  E01000008  2015         8522.727273\n",
      "7  E01000009  2015        13580.922596\n",
      "8  E01000011  2015        17960.741549\n",
      "LSOA Code             0\n",
      "Year                  0\n",
      "Population Density    0\n",
      "dtype: int64\n",
      "LSOA Code              object\n",
      "Year                    int64\n",
      "Population Density    float64\n",
      "dtype: object\n"
     ]
    }
   ],
   "source": [
    "# 清洗人口密度数据\n",
    "# 导入\n",
    "den = pd.ExcelFile(\"data/sapelsoapopulationdensity20112022.xlsx\")\n",
    "sheet_names_den = den.sheet_names\n",
    "\n",
    "df_den = den.parse(sheet_name=\"Mid-2011 to mid-2022 LSOA 2021\", skiprows=3, header=0)\n",
    "df_den.columns = df_den.columns.str.strip()\n",
    "df_den = df_den.rename(columns={\"LSOA 2021 Code\": \"LSOA Code\",\n",
    "                                \"Mid-2015: People per Sq Km\": \"2015\",\n",
    "                                \"Mid-2016: People per Sq Km\": \"2016\",\n",
    "                                \"Mid-2017: People per Sq Km\": \"2017\",\n",
    "                                \"Mid-2018: People per Sq Km\": \"2018\",\n",
    "                                \"Mid-2019: People per Sq Km\": \"2019\"})\n",
    "keep_cols2 = [\"LSOA Code\", \"2015\", \"2016\", \"2017\", \"2018\", \"2019\"]\n",
    "df_den = df_den[keep_cols2]\n",
    "\n",
    "\n",
    "# 转换长格式\n",
    "den_long = pd.melt(df_den, \n",
    "                   id_vars=[\"LSOA Code\"], \n",
    "                   var_name=\"Year\", \n",
    "                   value_name=\"Population Density\")\n",
    "\n",
    "den_long[\"Year\"] = den_long[\"Year\"].astype(int)\n",
    "den_long[\"LSOA Code\"] = den_long[\"LSOA Code\"].astype(str)\n",
    "\n",
    "# 筛选伦敦\n",
    "london_den = den_long[den_long[\"LSOA Code\"].isin(london_lsoa)]\n",
    "\n",
    "print(london_den.shape)\n",
    "print(london_den.head())\n",
    "print(london_den.isnull().sum())\n",
    "print(london_den.dtypes)\n"
   ]
  },
  {
   "cell_type": "code",
   "execution_count": 4,
   "id": "51a09e7e",
   "metadata": {},
   "outputs": [
    {
     "name": "stdout",
     "output_type": "stream",
     "text": [
      "(23265, 3)\n",
      "    LSOA Code  Year  House Price\n",
      "20  E01000006  2015     196125.0\n",
      "21  E01000006  2016     349062.5\n",
      "22  E01000006  2017     408500.0\n",
      "23  E01000006  2018     379375.0\n",
      "24  E01000006  2019     247375.0\n",
      "LSOA Code        0\n",
      "Year             0\n",
      "House Price    542\n",
      "dtype: int64\n",
      "LSOA Code       object\n",
      "Year             int64\n",
      "House Price    float64\n",
      "dtype: object\n"
     ]
    }
   ],
   "source": [
    "# 房价数据\n",
    "housing = pd.ExcelFile(\"data/hpssadataset46medianpricepaidforresidentialpropertiesbylsoa/median_price.xlsx\")\n",
    "sheet_names_housing = housing.sheet_names\n",
    "\n",
    "df_housing = housing.parse(sheet_name=\"1a\", skiprows=5, header=0)\n",
    "df_housing.columns = df_housing.columns.str.strip()\n",
    "df_housing = df_housing.rename(columns={\"LSOA code\": \"LSOA Code\"})\n",
    "df_housing = df_housing[df_housing[\"LSOA Code\"].isin(london_lsoa)]\n",
    "\n",
    "# melt 所有列（除了 LSOA code、name）变成行\n",
    "housing_long = pd.melt(df_housing, \n",
    "                  id_vars=[\"LSOA Code\"], \n",
    "                  var_name=\"Date\", \n",
    "                  value_name=\"House Price\")\n",
    "\n",
    "# 提取 4 位数年份作为新的一列\n",
    "housing_long[\"House Price\"] = pd.to_numeric(housing_long[\"House Price\"], errors=\"coerce\")\n",
    "\n",
    "# 再安全地转成整数\n",
    "housing_long[\"Year\"] = housing_long[\"Date\"].str.extract(r\"(\\d{4})\")\n",
    "housing_long = housing_long.dropna(subset=[\"Year\"])\n",
    "housing_long[\"Year\"] = housing_long[\"Year\"].astype(int)\n",
    "housing_yearly = housing_long.groupby([\"LSOA Code\", \"Year\"])[\"House Price\"].mean().reset_index()\n",
    "\n",
    "london_housing = housing_yearly[housing_yearly[\"LSOA Code\"].isin(london_lsoa)&\n",
    "    (housing_yearly[\"Year\"].between(2015, 2019))]\n",
    "\n",
    "print(london_housing.shape)\n",
    "print(london_housing.head())\n",
    "print(london_housing.isnull().sum())\n",
    "print(london_housing.dtypes)"
   ]
  },
  {
   "cell_type": "code",
   "execution_count": 5,
   "id": "07085b1c",
   "metadata": {},
   "outputs": [
    {
     "name": "stdout",
     "output_type": "stream",
     "text": [
      "    LSOA Code  Year  House Price\n",
      "20  E01000006  2015     196125.0\n",
      "21  E01000006  2016     349062.5\n",
      "22  E01000006  2017     408500.0\n",
      "23  E01000006  2018     379375.0\n",
      "24  E01000006  2019     247375.0\n",
      "LSOA Code      0\n",
      "Year           0\n",
      "House Price    0\n",
      "dtype: int64\n",
      "LSOA Code       object\n",
      "Year             int64\n",
      "House Price    float64\n",
      "dtype: object\n"
     ]
    },
    {
     "name": "stderr",
     "output_type": "stream",
     "text": [
      "C:\\Users\\hp\\AppData\\Local\\Temp\\ipykernel_62660\\3209577664.py:2: SettingWithCopyWarning: \n",
      "A value is trying to be set on a copy of a slice from a DataFrame.\n",
      "Try using .loc[row_indexer,col_indexer] = value instead\n",
      "\n",
      "See the caveats in the documentation: https://pandas.pydata.org/pandas-docs/stable/user_guide/indexing.html#returning-a-view-versus-a-copy\n",
      "  london_housing[\"House Price\"] = london_housing.groupby(\"LSOA Code\")[\"House Price\"].transform(lambda x: x.fillna(x.mean()))\n",
      "C:\\Users\\hp\\AppData\\Local\\Temp\\ipykernel_62660\\3209577664.py:3: SettingWithCopyWarning: \n",
      "A value is trying to be set on a copy of a slice from a DataFrame.\n",
      "Try using .loc[row_indexer,col_indexer] = value instead\n",
      "\n",
      "See the caveats in the documentation: https://pandas.pydata.org/pandas-docs/stable/user_guide/indexing.html#returning-a-view-versus-a-copy\n",
      "  london_housing[\"House Price\"] = london_housing[\"House Price\"].fillna(london_housing[\"House Price\"].median())\n"
     ]
    }
   ],
   "source": [
    "# 补房价空缺值\n",
    "london_housing[\"House Price\"] = london_housing.groupby(\"LSOA Code\")[\"House Price\"].transform(lambda x: x.fillna(x.mean()))\n",
    "london_housing[\"House Price\"] = london_housing[\"House Price\"].fillna(london_housing[\"House Price\"].median())\n",
    "print(london_housing.head())\n",
    "print(london_housing.isnull().sum())\n",
    "print(london_housing.dtypes)"
   ]
  },
  {
   "cell_type": "code",
   "execution_count": 6,
   "id": "04d92b7a",
   "metadata": {},
   "outputs": [
    {
     "name": "stdout",
     "output_type": "stream",
     "text": [
      "(4653, 7)\n",
      "LSOA Code                                  0\n",
      "Income Score (rate)                        0\n",
      "Employment Score (rate)                    0\n",
      "Education, Skills and Training Score       0\n",
      "Health Deprivation and Disability Score    0\n",
      "Barriers to Housing and Services Score     0\n",
      "Living Environment Score                   0\n",
      "dtype: int64\n",
      "LSOA Code                                   object\n",
      "Income Score (rate)                        float64\n",
      "Employment Score (rate)                    float64\n",
      "Education, Skills and Training Score       float64\n",
      "Health Deprivation and Disability Score    float64\n",
      "Barriers to Housing and Services Score     float64\n",
      "Living Environment Score                   float64\n",
      "dtype: object\n"
     ]
    }
   ],
   "source": [
    "# imd数据\n",
    "IMD = pd.ExcelFile(\"data/File_5_-_IoD2019_Scores.xlsx\")\n",
    "\n",
    "sheet_names_IMD = IMD.sheet_names\n",
    "\n",
    "df_IMD = IMD.parse(sheet_name=\"IoD2019 Scores\", header=0)\n",
    "df_IMD.columns = df_IMD.columns.str.strip()\n",
    "df_IMD = df_IMD.rename(columns={\"LSOA code (2011)\": \"LSOA Code\"})\n",
    "df_IMD = df_IMD[df_IMD[\"LSOA Code\"].isin(london_lsoa)]\n",
    "\n",
    "keep_cols3 = [\"LSOA Code\", \"Income Score (rate)\", \n",
    "              \"Employment Score (rate)\", \n",
    "              \"Education, Skills and Training Score\", \n",
    "              \"Health Deprivation and Disability Score\", \n",
    "              \"Barriers to Housing and Services Score\", \n",
    "              \"Living Environment Score\"]\n",
    "IMD_fin = df_IMD[keep_cols3]\n",
    "\n",
    "print(IMD_fin.shape)\n",
    "print(IMD_fin.isnull().sum())\n",
    "print(IMD_fin.dtypes)"
   ]
  },
  {
   "cell_type": "code",
   "execution_count": 7,
   "id": "1b4e6d20",
   "metadata": {},
   "outputs": [],
   "source": [
    "# 筛选lsoa2011\n",
    "lsoa11 = IMD_fin[\"LSOA Code\"].unique()\n",
    "\n",
    "df_yearly = df_yearly[df_yearly[\"LSOA Code\"].isin(lsoa11)]\n",
    "london_pop = london_pop[london_pop[\"LSOA Code\"].isin(lsoa11)]\n",
    "london_den = london_den[london_den[\"LSOA Code\"].isin(lsoa11)]\n",
    "london_housing = london_housing[london_housing[\"LSOA Code\"].isin(lsoa11)]"
   ]
  },
  {
   "cell_type": "code",
   "execution_count": 8,
   "id": "1665358e",
   "metadata": {},
   "outputs": [
    {
     "name": "stdout",
     "output_type": "stream",
     "text": [
      "   LSOA Code  Year  Theft Count  Population  Vulnerable_Ratio  \\\n",
      "0  E01000006  2015            3        1929          0.325557   \n",
      "1  E01000006  2016            8        1882          0.319872   \n",
      "2  E01000006  2017            9        1852          0.322894   \n",
      "3  E01000006  2018           15        1844          0.329176   \n",
      "4  E01000006  2019            6        1844          0.315076   \n",
      "\n",
      "   Population Density  House Price  \n",
      "0        13158.253752     196125.0  \n",
      "1        12837.653479     349062.5  \n",
      "2        12633.015007     408500.0  \n",
      "3        12578.444748     379375.0  \n",
      "4        12578.444748     247375.0  \n",
      "(23265, 7)\n",
      "LSOA Code             0\n",
      "Year                  0\n",
      "Theft Count           0\n",
      "Population            0\n",
      "Vulnerable_Ratio      0\n",
      "Population Density    0\n",
      "House Price           0\n",
      "dtype: int64\n"
     ]
    }
   ],
   "source": [
    "# 合并数据集\n",
    "df_model = df_yearly.copy()\n",
    "df_model = df_model.merge(london_pop, on=[\"LSOA Code\", \"Year\"], how=\"left\")\n",
    "df_model = df_model.merge(london_den, on=[\"LSOA Code\", \"Year\"], how=\"left\")\n",
    "df_model = df_model.merge(london_housing, on=[\"LSOA Code\", \"Year\"], how=\"left\")\n",
    "\n",
    "print(df_model.head())\n",
    "print(df_model.shape)\n",
    "print(df_model.isnull().sum())"
   ]
  },
  {
   "cell_type": "code",
   "execution_count": 9,
   "id": "b2a1ed1e",
   "metadata": {},
   "outputs": [],
   "source": [
    "# 每千人盗窃率\n",
    "df_model[\"Theft_Rate_per1k\"] = df_model[\"Theft Count\"] / df_model[\"Population\"] * 1000\n"
   ]
  },
  {
   "cell_type": "code",
   "execution_count": 10,
   "id": "ae104279",
   "metadata": {},
   "outputs": [],
   "source": [
    "# 合并静态数据集\n",
    "df_model = df_model.merge(IMD_fin, on=\"LSOA Code\", how=\"left\")"
   ]
  },
  {
   "cell_type": "code",
   "execution_count": 11,
   "id": "ecce0bb2",
   "metadata": {},
   "outputs": [
    {
     "name": "stdout",
     "output_type": "stream",
     "text": [
      "   LSOA_Code  Year  Vulnerable_Ratio  Population_Density  House_Price  \\\n",
      "0  E01000006  2015          0.325557        13158.253752     196125.0   \n",
      "1  E01000006  2016          0.319872        12837.653479     349062.5   \n",
      "2  E01000006  2017          0.322894        12633.015007     408500.0   \n",
      "3  E01000006  2018          0.329176        12578.444748     379375.0   \n",
      "4  E01000006  2019          0.315076        12578.444748     247375.0   \n",
      "\n",
      "   Theft_Rate_per1k  Income_Score_rate  Employment_Score_rate  \\\n",
      "0          1.555210              0.117                  0.059   \n",
      "1          4.250797              0.117                  0.059   \n",
      "2          4.859611              0.117                  0.059   \n",
      "3          8.134490              0.117                  0.059   \n",
      "4          3.253796              0.117                  0.059   \n",
      "\n",
      "   Education,_Skills_and_Training_Score  \\\n",
      "0                                14.798   \n",
      "1                                14.798   \n",
      "2                                14.798   \n",
      "3                                14.798   \n",
      "4                                14.798   \n",
      "\n",
      "   Health_Deprivation_and_Disability_Score  \\\n",
      "0                                   -0.359   \n",
      "1                                   -0.359   \n",
      "2                                   -0.359   \n",
      "3                                   -0.359   \n",
      "4                                   -0.359   \n",
      "\n",
      "   Barriers_to_Housing_and_Services_Score  Living_Environment_Score  \n",
      "0                                  45.171                    26.888  \n",
      "1                                  45.171                    26.888  \n",
      "2                                  45.171                    26.888  \n",
      "3                                  45.171                    26.888  \n",
      "4                                  45.171                    26.888  \n",
      "(23265, 12)\n",
      "LSOA_Code                                  0\n",
      "Year                                       0\n",
      "Vulnerable_Ratio                           0\n",
      "Population_Density                         0\n",
      "House_Price                                0\n",
      "Theft_Rate_per1k                           0\n",
      "Income_Score_rate                          0\n",
      "Employment_Score_rate                      0\n",
      "Education,_Skills_and_Training_Score       0\n",
      "Health_Deprivation_and_Disability_Score    0\n",
      "Barriers_to_Housing_and_Services_Score     0\n",
      "Living_Environment_Score                   0\n",
      "dtype: int64\n"
     ]
    }
   ],
   "source": [
    "# 删掉不需要的数据\n",
    "df_model = df_model.drop(columns=[\"Theft Count\", \"Population\"])\n",
    "\n",
    "# 修改column名字\n",
    "df_model.columns = df_model.columns.str.replace(\" \", \"_\")\n",
    "df_model.columns = df_model.columns.str.replace(r\"[()/]\", \"\", regex=True)\n",
    "\n",
    "print(df_model.head())\n",
    "print(df_model.shape)\n",
    "print(df_model.isnull().sum())"
   ]
  },
  {
   "cell_type": "code",
   "execution_count": 12,
   "id": "8015d2c6",
   "metadata": {},
   "outputs": [
    {
     "name": "stdout",
     "output_type": "stream",
     "text": [
      "2.0.1\n",
      "                                   geometry fare_zone  \\\n",
      "element id                                              \n",
      "node    780856    POINT (-0.22631 51.50607)         2   \n",
      "        1256794   POINT (-0.47183 51.50974)         6   \n",
      "        2013971   POINT (-0.19232 51.60084)         4   \n",
      "        9780241    POINT (0.10572 51.39474)       NaN   \n",
      "        13884199   POINT (-0.2488 51.61267)       NaN   \n",
      "\n",
      "                                       line                    name  \\\n",
      "element id                                                            \n",
      "node    780856    Hammersmith & City;Circle  Shepherd's Bush Market   \n",
      "        1256794                         NaN            West Drayton   \n",
      "        2013971                    Northern        Finchley Central   \n",
      "        9780241                         NaN            St Mary Cray   \n",
      "        13884199                        NaN      Mill Hill Broadway   \n",
      "\n",
      "                             name:ru naptan:AtcoCode  \\\n",
      "element id                                             \n",
      "node    780856    Шепердс-Буш-Маркет     940GZZLUSBM   \n",
      "        1256794                  NaN     9100WDRYTON   \n",
      "        2013971                  NaN     940GZZLUFYC   \n",
      "        9780241                  NaN      9100STMRYC   \n",
      "        13884199                 NaN        9100MLHB   \n",
      "\n",
      "                                       network public_transport  railway  \\\n",
      "element id                                                                 \n",
      "node    780856              London Underground          station  station   \n",
      "        1256794   National Rail;Elizabeth Line          station  station   \n",
      "        2013971             London Underground          station  station   \n",
      "        9780241                  National Rail          station  station   \n",
      "        13884199                 National Rail          station  station   \n",
      "\n",
      "                                                         source_ref  ...  \\\n",
      "element id                                                           ...   \n",
      "node    780856    http://en.wikipedia.org/wiki/List_of_London_Un...  ...   \n",
      "        1256794   http://en.wikipedia.org/wiki/List_of_London_ra...  ...   \n",
      "        2013971                                                 NaN  ...   \n",
      "        9780241                                                 NaN  ...   \n",
      "        13884199                                                NaN  ...   \n",
      "\n",
      "                 name:pa name:pnb ref:GB:uprn wheelchair:note phone  \\\n",
      "element id                                                            \n",
      "node    780856       NaN      NaN         NaN             NaN   NaN   \n",
      "        1256794      NaN      NaN         NaN             NaN   NaN   \n",
      "        2013971      NaN      NaN         NaN             NaN   NaN   \n",
      "        9780241      NaN      NaN         NaN             NaN   NaN   \n",
      "        13884199     NaN      NaN         NaN             NaN   NaN   \n",
      "\n",
      "                 proposed:public_transport information name:official bicycle  \\\n",
      "element id                                                                     \n",
      "node    780856                         NaN         NaN           NaN     NaN   \n",
      "        1256794                        NaN         NaN           NaN     NaN   \n",
      "        2013971                        NaN         NaN           NaN     NaN   \n",
      "        9780241                        NaN         NaN           NaN     NaN   \n",
      "        13884199                       NaN         NaN           NaN     NaN   \n",
      "\n",
      "                 foot  \n",
      "element id             \n",
      "node    780856    NaN  \n",
      "        1256794   NaN  \n",
      "        2013971   NaN  \n",
      "        9780241   NaN  \n",
      "        13884199  NaN  \n",
      "\n",
      "[5 rows x 254 columns]\n"
     ]
    }
   ],
   "source": [
    "# 尝试进行poi数据获取\n",
    "import osmnx as ox\n",
    "print(ox.__version__)\n",
    "\n",
    "import geopandas as gpd\n",
    "\n",
    "# 使用新的 feature 下载方式\n",
    "place = \"London, UK\"\n",
    "tags1 = {\"railway\": \"station\", \"highway\": \"bus_stop\"}  # 地铁或火车站\n",
    "tags2 = {\"shop\": True } # 商店\n",
    "gdf1 = ox.features_from_place(place, tags1)\n",
    "gdf2 = ox.features_from_place(place, tags2)\n",
    "print(gdf1.head())\n"
   ]
  },
  {
   "cell_type": "code",
   "execution_count": 13,
   "id": "16cbb0f8",
   "metadata": {},
   "outputs": [
    {
     "name": "stdout",
     "output_type": "stream",
     "text": [
      "(4835, 15)\n"
     ]
    }
   ],
   "source": [
    "lsoa_gdf = gpd.read_file(\"data/statistical-gis-boundaries-london/statistical-gis-boundaries-london/ESRI/LSOA_2011_London_gen_MHW.shp\")\n",
    "print(lsoa_gdf.shape)"
   ]
  },
  {
   "cell_type": "code",
   "execution_count": 14,
   "id": "6f2c7090",
   "metadata": {},
   "outputs": [],
   "source": [
    "tran_poi_gdf = gdf1.to_crs(lsoa_gdf.crs)\n",
    "shop_poi_gdf = gdf2.to_crs(lsoa_gdf.crs)"
   ]
  },
  {
   "cell_type": "code",
   "execution_count": 15,
   "id": "3fbc0f31",
   "metadata": {},
   "outputs": [],
   "source": [
    "shop_poi_gdf[\"geometry\"] = shop_poi_gdf.geometry.centroid"
   ]
  },
  {
   "cell_type": "code",
   "execution_count": 16,
   "id": "387a1011",
   "metadata": {},
   "outputs": [
    {
     "name": "stdout",
     "output_type": "stream",
     "text": [
      "Point    20391\n",
      "Name: count, dtype: int64\n",
      "Point    40834\n",
      "Name: count, dtype: int64\n"
     ]
    }
   ],
   "source": [
    "print(tran_poi_gdf.geometry.type.value_counts())\n",
    "print(shop_poi_gdf.geometry.type.value_counts())\n"
   ]
  },
  {
   "cell_type": "code",
   "execution_count": 17,
   "id": "11ac8713",
   "metadata": {},
   "outputs": [
    {
     "name": "stdout",
     "output_type": "stream",
     "text": [
      "   LSOA_Code  tran_poi_count\n",
      "0  E01000007               5\n",
      "1  E01000008               1\n",
      "2  E01000009               7\n",
      "3  E01000010              12\n",
      "4  E01000011               1\n",
      "(4334, 2)\n"
     ]
    }
   ],
   "source": [
    "joined = gpd.sjoin(tran_poi_gdf, lsoa_gdf, how='inner', predicate='within')\n",
    "tran_poi_count = joined.groupby('LSOA11CD').size().reset_index(name='tran_poi_count')\n",
    "tran_poi_count = tran_poi_count.rename(columns={\"LSOA11CD\": \"LSOA_Code\"})\n",
    "print(tran_poi_count.head())\n",
    "print(tran_poi_count.shape)"
   ]
  },
  {
   "cell_type": "code",
   "execution_count": 18,
   "id": "633a9172",
   "metadata": {},
   "outputs": [],
   "source": [
    "df_model = df_model.merge(tran_poi_count, on=\"LSOA_Code\", how=\"left\")\n",
    "df_model[\"tran_poi_count\"] = df_model[\"tran_poi_count\"].fillna(0).astype(int)"
   ]
  },
  {
   "cell_type": "code",
   "execution_count": 19,
   "id": "58c99284",
   "metadata": {},
   "outputs": [
    {
     "name": "stdout",
     "output_type": "stream",
     "text": [
      "   LSOA_Code  shop_poi_count\n",
      "0  E01000005               1\n",
      "1  E01000007              13\n",
      "2  E01000008               5\n",
      "3  E01000009              15\n",
      "4  E01000010              96\n",
      "(3212, 2)\n"
     ]
    }
   ],
   "source": [
    "joined = gpd.sjoin(shop_poi_gdf, lsoa_gdf, how='inner', predicate='within')\n",
    "shop_poi_count = joined.groupby('LSOA11CD').size().reset_index(name='shop_poi_count')\n",
    "shop_poi_count = shop_poi_count.rename(columns={\"LSOA11CD\": \"LSOA_Code\"})\n",
    "print(shop_poi_count.head())\n",
    "print(shop_poi_count.shape)"
   ]
  },
  {
   "cell_type": "code",
   "execution_count": 20,
   "id": "0e210b32",
   "metadata": {},
   "outputs": [],
   "source": [
    "df_model = df_model.merge(shop_poi_count, on=\"LSOA_Code\", how=\"left\")\n",
    "df_model[\"shop_poi_count\"] = df_model[\"shop_poi_count\"].fillna(0).astype(int)"
   ]
  },
  {
   "cell_type": "code",
   "execution_count": 21,
   "id": "264fd1c4",
   "metadata": {},
   "outputs": [
    {
     "name": "stdout",
     "output_type": "stream",
     "text": [
      "Index(['LSOA_Code', 'Year', 'Vulnerable_Ratio', 'Population_Density',\n",
      "       'House_Price', 'Theft_Rate_per1k', 'Income_Score_rate',\n",
      "       'Employment_Score_rate', 'Education,_Skills_and_Training_Score',\n",
      "       'Health_Deprivation_and_Disability_Score',\n",
      "       'Barriers_to_Housing_and_Services_Score', 'Living_Environment_Score',\n",
      "       'tran_poi_count', 'shop_poi_count'],\n",
      "      dtype='object')\n"
     ]
    }
   ],
   "source": [
    "print(df_model.columns)"
   ]
  },
  {
   "cell_type": "code",
   "execution_count": 22,
   "id": "9f268c00",
   "metadata": {},
   "outputs": [],
   "source": [
    "df_model.to_csv(\"london_model_with_poi.csv\", index=False)"
   ]
  }
 ],
 "metadata": {
  "kernelspec": {
   "display_name": "Python 3",
   "language": "python",
   "name": "python3"
  },
  "language_info": {
   "codemirror_mode": {
    "name": "ipython",
    "version": 3
   },
   "file_extension": ".py",
   "mimetype": "text/x-python",
   "name": "python",
   "nbconvert_exporter": "python",
   "pygments_lexer": "ipython3",
   "version": "3.12.5"
  }
 },
 "nbformat": 4,
 "nbformat_minor": 5
}
