{
 "cells": [
  {
   "cell_type": "markdown",
   "id": "1a0d7c68",
   "metadata": {},
   "source": [
    "# Identifying High-risk Areas for Theft in London using Machine Learning"
   ]
  },
  {
   "cell_type": "markdown",
   "id": "e9cdf676",
   "metadata": {},
   "source": [
    "***\n",
    "#### Preparation\n",
    "\n",
    "- See project in Github: [Github link](https://github.com/meimao76/006assessment)\n",
    "\n",
    "- Number of words: ***\n",
    "\n",
    "- Runtime: *** hours (*Memory 10 GB, CPU Intel i7-10700 CPU @2.90GHz*)\n",
    "\n",
    "- Coding environment: VS Code + Python 3.12 (Windows 11)\n",
    "\n",
    "- License: this notebook is made available under the [Creative Commons Attribution license](https://creativecommons.org/licenses/by/4.0/).\n",
    "\n",
    "- Additional library *[libraries not included in SDS Docker or not used in this module]*:\n",
    "    - **watermark**: A Jupyter Notebook extension for printing timestamps, version numbers, and hardware information.\n",
    "    - ......\n",
    "\n",
    "***"
   ]
  },
  {
   "cell_type": "markdown",
   "id": "9ee86b88",
   "metadata": {},
   "source": [
    "## Table of contents\n",
    "\n",
    "1. [Introduction](#Introduction)\n",
    "\n",
    "1. [Research questions](#Research-questions)\n",
    "\n",
    "1. [Data](#Data)\n",
    "\n",
    "1. [Methodology](#Methodology)\n",
    "\n",
    "1. [Results and discussion](#Results-and-discussion)\n",
    "\n",
    "1. [Conclusion](#Conclusion)\n",
    "\n",
    "1. [References](#References)\n",
    "\n",
    "***"
   ]
  },
  {
   "cell_type": "markdown",
   "id": "86ccea80",
   "metadata": {},
   "source": [
    "## Introduction\n",
    "\n",
    "Urban safety remains a fundamental concern for cities worldwide, with crime posing persistent challenges to social stability and quality of life. According to a set of Office for Natinal Statistics (ONS) crime data covering the 12 months up to September 2024, London -as the capital of UK- has one of the lowest rates of violent crime and violent crime with injury but also the highest overall rate of crime per 1,000 people in its population. A main contributor for this situation is the high volume of various theft crime.(Hill, 2025) Thus, in order to better protect citizens' property, it is essential to identify and predict when and where theft crimes are most likely to occur across different parts of London.\n",
    "This reseach focuses on finding a machine learning model that performs better in predicting theft risk across London. With open data provided by Metropolitan Police Service (MPS) and ONS, this research seeks to uncover key socioeconomic elements that influence high-risk area distributions.\n",
    "\n",
    "[[ go back to the top ]](#Table-of-contents)"
   ]
  },
  {
   "cell_type": "markdown",
   "id": "28114904",
   "metadata": {},
   "source": [
    "## Research questions\n",
    "\n",
    "[[ go back to the top ]](#Table-of-contents)"
   ]
  },
  {
   "cell_type": "markdown",
   "id": "1d815aec",
   "metadata": {},
   "source": [
    "## Data\n",
    "\n",
    "[[ go back to the top ]](#Table-of-contents)"
   ]
  },
  {
   "cell_type": "markdown",
   "id": "88e70cf9",
   "metadata": {},
   "source": [
    "| Variable                            | Type        | Description                                         | Notes |\n",
    "|-------------------------------------|-------------|-----------------------------------------------------|-------|\n",
    "| Burglary crime rate                 | Numeric     | The burglary rate of MSOAs. Used as dependent var. |  &nbsp;     |\n",
    "| Temperature                         | Numeric     | The daytime temperature                             |  &nbsp;     |\n",
    "| Indicator of Inner or Outer London | Categorical | Whether the MSOA is in Inner London                 |    &nbsp;   |"
   ]
  },
  {
   "cell_type": "markdown",
   "id": "9b986529",
   "metadata": {},
   "source": [
    "## Methodology\n",
    "\n",
    "[[ go back to the top ]](#Table-of-contents)"
   ]
  },
  {
   "cell_type": "markdown",
   "id": "cafeabab",
   "metadata": {},
   "source": [
    "*[Note: a flow chart that describes the methodology is strongly encouraged - see the example below. This flow chart can be made using Microsoft powerpoint or visio or other software]*\n",
    "\n",
    "Source: see [link](https://linkinghub.elsevier.com/retrieve/pii/S2210670722004437)."
   ]
  },
  {
   "cell_type": "markdown",
   "id": "1288cdda",
   "metadata": {},
   "source": [
    "## Results and discussion\n",
    "\n",
    "[[ go back to the top ]](#Table-of-contents)"
   ]
  },
  {
   "cell_type": "markdown",
   "id": "99e204f0",
   "metadata": {},
   "source": [
    "## Conclusion\n",
    "\n",
    "[[ go back to the top ]](#Table-of-contents)"
   ]
  },
  {
   "cell_type": "markdown",
   "id": "b1216c6b",
   "metadata": {},
   "source": [
    "## References\n",
    "\n",
    "[[ go back to the top ]](#Table-of-contents)"
   ]
  }
 ],
 "metadata": {
  "language_info": {
   "name": "python"
  }
 },
 "nbformat": 4,
 "nbformat_minor": 5
}
